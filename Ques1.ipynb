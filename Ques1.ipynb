{
 "cells": [
  {
   "cell_type": "code",
   "execution_count": 2,
   "metadata": {},
   "outputs": [
    {
     "name": "stdout",
     "output_type": "stream",
     "text": [
      "2.0.1\n"
     ]
    }
   ],
   "source": [
    "import pandas as pd\n",
    "import numpy as np\n",
    "import math\n",
    "import statistics\n",
    "import scipy.stats"
   ]
  },
  {
   "cell_type": "code",
   "execution_count": 3,
   "metadata": {},
   "outputs": [
    {
     "data": {
      "text/html": [
       "<div>\n",
       "<style scoped>\n",
       "    .dataframe tbody tr th:only-of-type {\n",
       "        vertical-align: middle;\n",
       "    }\n",
       "\n",
       "    .dataframe tbody tr th {\n",
       "        vertical-align: top;\n",
       "    }\n",
       "\n",
       "    .dataframe thead th {\n",
       "        text-align: right;\n",
       "    }\n",
       "</style>\n",
       "<table border=\"1\" class=\"dataframe\">\n",
       "  <thead>\n",
       "    <tr style=\"text-align: right;\">\n",
       "      <th></th>\n",
       "      <th>Age</th>\n",
       "      <th>Income</th>\n",
       "    </tr>\n",
       "  </thead>\n",
       "  <tbody>\n",
       "    <tr>\n",
       "      <th>0</th>\n",
       "      <td>Young</td>\n",
       "      <td>25000</td>\n",
       "    </tr>\n",
       "    <tr>\n",
       "      <th>1</th>\n",
       "      <td>Middle Age</td>\n",
       "      <td>54000</td>\n",
       "    </tr>\n",
       "    <tr>\n",
       "      <th>2</th>\n",
       "      <td>Old</td>\n",
       "      <td>60000</td>\n",
       "    </tr>\n",
       "    <tr>\n",
       "      <th>3</th>\n",
       "      <td>Young</td>\n",
       "      <td>15000</td>\n",
       "    </tr>\n",
       "    <tr>\n",
       "      <th>4</th>\n",
       "      <td>Young</td>\n",
       "      <td>45000</td>\n",
       "    </tr>\n",
       "    <tr>\n",
       "      <th>5</th>\n",
       "      <td>Young</td>\n",
       "      <td>65000</td>\n",
       "    </tr>\n",
       "    <tr>\n",
       "      <th>6</th>\n",
       "      <td>Young</td>\n",
       "      <td>70000</td>\n",
       "    </tr>\n",
       "    <tr>\n",
       "      <th>7</th>\n",
       "      <td>Young</td>\n",
       "      <td>30000</td>\n",
       "    </tr>\n",
       "    <tr>\n",
       "      <th>8</th>\n",
       "      <td>Middle Age</td>\n",
       "      <td>27000</td>\n",
       "    </tr>\n",
       "    <tr>\n",
       "      <th>9</th>\n",
       "      <td>Young</td>\n",
       "      <td>23000</td>\n",
       "    </tr>\n",
       "    <tr>\n",
       "      <th>10</th>\n",
       "      <td>Young</td>\n",
       "      <td>48000</td>\n",
       "    </tr>\n",
       "    <tr>\n",
       "      <th>11</th>\n",
       "      <td>Old</td>\n",
       "      <td>52000</td>\n",
       "    </tr>\n",
       "    <tr>\n",
       "      <th>12</th>\n",
       "      <td>Young</td>\n",
       "      <td>33000</td>\n",
       "    </tr>\n",
       "    <tr>\n",
       "      <th>13</th>\n",
       "      <td>Old</td>\n",
       "      <td>80000</td>\n",
       "    </tr>\n",
       "    <tr>\n",
       "      <th>14</th>\n",
       "      <td>Old</td>\n",
       "      <td>75000</td>\n",
       "    </tr>\n",
       "    <tr>\n",
       "      <th>15</th>\n",
       "      <td>Old</td>\n",
       "      <td>35000</td>\n",
       "    </tr>\n",
       "    <tr>\n",
       "      <th>16</th>\n",
       "      <td>Middle Age</td>\n",
       "      <td>29000</td>\n",
       "    </tr>\n",
       "    <tr>\n",
       "      <th>17</th>\n",
       "      <td>Middle Age</td>\n",
       "      <td>57000</td>\n",
       "    </tr>\n",
       "    <tr>\n",
       "      <th>18</th>\n",
       "      <td>Old</td>\n",
       "      <td>43000</td>\n",
       "    </tr>\n",
       "    <tr>\n",
       "      <th>19</th>\n",
       "      <td>Middle Age</td>\n",
       "      <td>56000</td>\n",
       "    </tr>\n",
       "    <tr>\n",
       "      <th>20</th>\n",
       "      <td>Old</td>\n",
       "      <td>63000</td>\n",
       "    </tr>\n",
       "    <tr>\n",
       "      <th>21</th>\n",
       "      <td>Old</td>\n",
       "      <td>32000</td>\n",
       "    </tr>\n",
       "    <tr>\n",
       "      <th>22</th>\n",
       "      <td>Old</td>\n",
       "      <td>45000</td>\n",
       "    </tr>\n",
       "    <tr>\n",
       "      <th>23</th>\n",
       "      <td>Old</td>\n",
       "      <td>89000</td>\n",
       "    </tr>\n",
       "    <tr>\n",
       "      <th>24</th>\n",
       "      <td>Middle Age</td>\n",
       "      <td>90000</td>\n",
       "    </tr>\n",
       "    <tr>\n",
       "      <th>25</th>\n",
       "      <td>Middle Age</td>\n",
       "      <td>93000</td>\n",
       "    </tr>\n",
       "    <tr>\n",
       "      <th>26</th>\n",
       "      <td>Young</td>\n",
       "      <td>80000</td>\n",
       "    </tr>\n",
       "    <tr>\n",
       "      <th>27</th>\n",
       "      <td>Young</td>\n",
       "      <td>87000</td>\n",
       "    </tr>\n",
       "    <tr>\n",
       "      <th>28</th>\n",
       "      <td>Young</td>\n",
       "      <td>38000</td>\n",
       "    </tr>\n",
       "    <tr>\n",
       "      <th>29</th>\n",
       "      <td>Young</td>\n",
       "      <td>23000</td>\n",
       "    </tr>\n",
       "    <tr>\n",
       "      <th>30</th>\n",
       "      <td>Middle Age</td>\n",
       "      <td>38900</td>\n",
       "    </tr>\n",
       "    <tr>\n",
       "      <th>31</th>\n",
       "      <td>Middle Age</td>\n",
       "      <td>53200</td>\n",
       "    </tr>\n",
       "    <tr>\n",
       "      <th>32</th>\n",
       "      <td>Old</td>\n",
       "      <td>43800</td>\n",
       "    </tr>\n",
       "    <tr>\n",
       "      <th>33</th>\n",
       "      <td>Middle Age</td>\n",
       "      <td>25600</td>\n",
       "    </tr>\n",
       "    <tr>\n",
       "      <th>34</th>\n",
       "      <td>Middle Age</td>\n",
       "      <td>65400</td>\n",
       "    </tr>\n",
       "    <tr>\n",
       "      <th>35</th>\n",
       "      <td>Old</td>\n",
       "      <td>76800</td>\n",
       "    </tr>\n",
       "    <tr>\n",
       "      <th>36</th>\n",
       "      <td>Old</td>\n",
       "      <td>89700</td>\n",
       "    </tr>\n",
       "    <tr>\n",
       "      <th>37</th>\n",
       "      <td>Old</td>\n",
       "      <td>41800</td>\n",
       "    </tr>\n",
       "    <tr>\n",
       "      <th>38</th>\n",
       "      <td>Young</td>\n",
       "      <td>31900</td>\n",
       "    </tr>\n",
       "    <tr>\n",
       "      <th>39</th>\n",
       "      <td>Old</td>\n",
       "      <td>25600</td>\n",
       "    </tr>\n",
       "    <tr>\n",
       "      <th>40</th>\n",
       "      <td>Middle Age</td>\n",
       "      <td>45700</td>\n",
       "    </tr>\n",
       "    <tr>\n",
       "      <th>41</th>\n",
       "      <td>Old</td>\n",
       "      <td>35600</td>\n",
       "    </tr>\n",
       "    <tr>\n",
       "      <th>42</th>\n",
       "      <td>Young</td>\n",
       "      <td>54300</td>\n",
       "    </tr>\n",
       "    <tr>\n",
       "      <th>43</th>\n",
       "      <td>Middle Age</td>\n",
       "      <td>65400</td>\n",
       "    </tr>\n",
       "    <tr>\n",
       "      <th>44</th>\n",
       "      <td>Old</td>\n",
       "      <td>67800</td>\n",
       "    </tr>\n",
       "    <tr>\n",
       "      <th>45</th>\n",
       "      <td>Old</td>\n",
       "      <td>24500</td>\n",
       "    </tr>\n",
       "    <tr>\n",
       "      <th>46</th>\n",
       "      <td>Middle Age</td>\n",
       "      <td>34900</td>\n",
       "    </tr>\n",
       "    <tr>\n",
       "      <th>47</th>\n",
       "      <td>Old</td>\n",
       "      <td>45300</td>\n",
       "    </tr>\n",
       "    <tr>\n",
       "      <th>48</th>\n",
       "      <td>Young</td>\n",
       "      <td>68400</td>\n",
       "    </tr>\n",
       "    <tr>\n",
       "      <th>49</th>\n",
       "      <td>Middle Age</td>\n",
       "      <td>51700</td>\n",
       "    </tr>\n",
       "  </tbody>\n",
       "</table>\n",
       "</div>"
      ],
      "text/plain": [
       "           Age  Income\n",
       "0        Young   25000\n",
       "1   Middle Age   54000\n",
       "2          Old   60000\n",
       "3        Young   15000\n",
       "4        Young   45000\n",
       "5        Young   65000\n",
       "6        Young   70000\n",
       "7        Young   30000\n",
       "8   Middle Age   27000\n",
       "9        Young   23000\n",
       "10       Young   48000\n",
       "11         Old   52000\n",
       "12       Young   33000\n",
       "13         Old   80000\n",
       "14         Old   75000\n",
       "15         Old   35000\n",
       "16  Middle Age   29000\n",
       "17  Middle Age   57000\n",
       "18         Old   43000\n",
       "19  Middle Age   56000\n",
       "20         Old   63000\n",
       "21         Old   32000\n",
       "22         Old   45000\n",
       "23         Old   89000\n",
       "24  Middle Age   90000\n",
       "25  Middle Age   93000\n",
       "26       Young   80000\n",
       "27       Young   87000\n",
       "28       Young   38000\n",
       "29       Young   23000\n",
       "30  Middle Age   38900\n",
       "31  Middle Age   53200\n",
       "32         Old   43800\n",
       "33  Middle Age   25600\n",
       "34  Middle Age   65400\n",
       "35         Old   76800\n",
       "36         Old   89700\n",
       "37         Old   41800\n",
       "38       Young   31900\n",
       "39         Old   25600\n",
       "40  Middle Age   45700\n",
       "41         Old   35600\n",
       "42       Young   54300\n",
       "43  Middle Age   65400\n",
       "44         Old   67800\n",
       "45         Old   24500\n",
       "46  Middle Age   34900\n",
       "47         Old   45300\n",
       "48       Young   68400\n",
       "49  Middle Age   51700"
      ]
     },
     "execution_count": 3,
     "metadata": {},
     "output_type": "execute_result"
    }
   ],
   "source": [
    "df=pd.read_excel(\"Age-Income-Dataset.xlsx\")\n",
    "df"
   ]
  },
  {
   "attachments": {},
   "cell_type": "markdown",
   "metadata": {},
   "source": [
    "MEAN"
   ]
  },
  {
   "cell_type": "code",
   "execution_count": 4,
   "metadata": {},
   "outputs": [
    {
     "name": "stdout",
     "output_type": "stream",
     "text": [
      "The mean by using formula -- 50966.0\n",
      "The mean by using statistics library -- 50966\n",
      "The mean by using pandas library -- 50966.0\n",
      "The mean by using numpy library -- 50966.0\n"
     ]
    }
   ],
   "source": [
    "#calculating mean by using formula\n",
    "mean_income=sum(df['Income'])/len(df['Income'])\n",
    "print(\"The mean by using formula --\",mean_income)\n",
    "\n",
    "#calculating mean by statistics library\n",
    "mean_incomee=statistics.mean(df['Income'])\n",
    "print(\"The mean by using statistics library --\",mean_incomee)\n",
    "\n",
    "#calculating mean by pandas library\n",
    "mean_incomeee=df['Income'].mean()\n",
    "print(\"The mean by using pandas library --\",mean_incomeee)\n",
    "\n",
    "#calculating mean by numpy library\n",
    "income_np= np.array(df['Income'])\n",
    "mean_incommee=np.mean(income_np)\n",
    "print(\"The mean by using numpy library --\",mean_incommee)"
   ]
  },
  {
   "attachments": {},
   "cell_type": "markdown",
   "metadata": {},
   "source": [
    "MEDIAN"
   ]
  },
  {
   "cell_type": "code",
   "execution_count": 5,
   "metadata": {},
   "outputs": [
    {
     "name": "stdout",
     "output_type": "stream",
     "text": [
      "The median by using Formula -- 46850.0\n",
      "The median by using statistics library -- 46850.0\n",
      "The median by using pandas library -- 46850.0\n",
      "The median by using numpy library -- 46850.0\n"
     ]
    }
   ],
   "source": [
    "#Calculating median by using formulas\n",
    "n = len(df['Income'])\n",
    "if n % 2:\n",
    "    income_median = sorted(df['Income'])[round(0.5*(n-1))]\n",
    "else:\n",
    "    x_ord, idx = sorted(df['Income']), round(0.5 * n)\n",
    "    income_median = 0.5 * (x_ord[idx-1] + x_ord[idx])\n",
    "\n",
    "print(\"The median by using Formula --\",income_median)\n",
    "\n",
    "#Calculating median by using statistics library\n",
    "incomee_median=statistics.median(df['Income'])\n",
    "print(\"The median by using statistics library --\",incomee_median)\n",
    "\n",
    "#Calculating median by using statistics library\n",
    "income_meedian=df['Income'].median()\n",
    "print(\"The median by using pandas library --\",income_meedian)\n",
    "\n",
    "#Calculating median by using statistics library\n",
    "incomeee_median=np.median(income_np)\n",
    "print(\"The median by using numpy library --\",incomeee_median)\n"
   ]
  },
  {
   "cell_type": "code",
   "execution_count": 15,
   "metadata": {},
   "outputs": [],
   "source": [
    "idf=df['Income']"
   ]
  },
  {
   "cell_type": "code",
   "execution_count": 16,
   "metadata": {},
   "outputs": [
    {
     "name": "stdout",
     "output_type": "stream",
     "text": [
      "The mode by using statistics library -- 45000\n",
      "The mode by using pandas library -- 0    23000\n",
      "1    25600\n",
      "2    45000\n",
      "3    65400\n",
      "4    80000\n",
      "Name: Income, dtype: int64\n"
     ]
    }
   ],
   "source": [
    "#Calculating mode by using statistics library\n",
    "income_modee=statistics.mode(df['Income'])\n",
    "print(\"The mode by using statistics library --\",income_modee)\n",
    "\n",
    "#Calculating mode by using pandas library\n",
    "incomee_mode=idf.mode()\n",
    "print(\"The mode by using pandas library --\",incomee_mode)\n"
   ]
  },
  {
   "cell_type": "code",
   "execution_count": null,
   "metadata": {},
   "outputs": [],
   "source": []
  },
  {
   "attachments": {},
   "cell_type": "markdown",
   "metadata": {},
   "source": [
    "VARIANCE"
   ]
  },
  {
   "cell_type": "code",
   "execution_count": null,
   "metadata": {},
   "outputs": [
    {
     "name": "stdout",
     "output_type": "stream",
     "text": [
      "The variance using formula -- 445070044.8979592\n",
      "The Variance using Statistics library -- 445070044.8979592\n",
      "The Variance using pandas library -- 445070044.8979592\n",
      "The Variance using numpy library -- 445070044.8979592\n"
     ]
    }
   ],
   "source": [
    "# Calculating Variance using Formula \n",
    "income=df['Income']\n",
    "n = len(income)\n",
    "income_mean = sum(income) / n\n",
    "variance = sum((item - income_mean)**2 for item in income) / (n - 1)\n",
    "print(\"The variance using formula --\",variance)\n",
    "\n",
    "#Calculating Variance using statistics library\n",
    "i_variance=statistics.variance(income)\n",
    "print(\"The Variance using Statistics library --\",i_variance)\n",
    "\n",
    "#Calculating Variance using pandas library\n",
    "i_variance=income.var(ddof=1)\n",
    "print(\"The Variance using pandas library --\",i_variance)\n",
    "\n",
    "#Calculating Variance using numpy library\n",
    "income_variance=np.var(income_np,ddof=1)\n",
    "print(\"The Variance using numpy library --\",income_variance)"
   ]
  },
  {
   "attachments": {},
   "cell_type": "markdown",
   "metadata": {},
   "source": [
    "STANDARD DEVIATION"
   ]
  },
  {
   "cell_type": "code",
   "execution_count": null,
   "metadata": {},
   "outputs": [
    {
     "name": "stdout",
     "output_type": "stream",
     "text": [
      "The standard deviation using formula -- 21096.683267707253\n",
      "The standard deviation using statistics library -- 21096.683267707253\n",
      "The standard deviation using pandas library -- 21096.683267707253\n",
      "The standard deviation using numpy library -- 21096.683267707253\n"
     ]
    }
   ],
   "source": [
    "#Calculating Standard Deviation using formula\n",
    "i_stdv=variance**0.5\n",
    "print(\"The standard deviation using formula --\",i_stdv)\\\n",
    "\n",
    "#Calculating standard deviation using statistics library\n",
    "i_std= statistics.stdev(income)\n",
    "print(\"The standard deviation using statistics library --\",i_std)\n",
    "\n",
    "#Calculating standard deviation using pandas library\n",
    "income_std= income.std(ddof=1)\n",
    "print(\"The standard deviation using pandas library --\",income_std)\n",
    "\n",
    "#Calculating standard deviation using numpy library\n",
    "i_stad= np.std(income_np,ddof=1)\n",
    "print(\"The standard deviation using numpy library --\",i_std)"
   ]
  },
  {
   "attachments": {},
   "cell_type": "markdown",
   "metadata": {},
   "source": [
    "SKEWNESS"
   ]
  },
  {
   "cell_type": "code",
   "execution_count": null,
   "metadata": {},
   "outputs": [
    {
     "name": "stdout",
     "output_type": "stream",
     "text": [
      "The Skewness using formula -- 0.3896340114677523\n",
      "The Skewness using Scipy Library -- 0.3896340114677522\n",
      "The Skewness using pandas library --\n",
      " Age\n",
      "Middle Age    0.642247\n",
      "Old           0.369497\n",
      "Young         0.456058\n",
      "Name: Income, dtype: float64\n"
     ]
    }
   ],
   "source": [
    "# Calculating Skewness using formula\n",
    "n = len(income)\n",
    "income_std = income_variance ** 0.5\n",
    "income_skew = (sum((item - income_mean)**3 for item in income)* n / ((n - 1) * (n - 2) * income_std**3))\n",
    "print(\"The Skewness using formula --\",income_skew)\n",
    "\n",
    "#Calculating Skewness using scipy library\n",
    "i_skew=scipy.stats.skew(income_np,bias=False)\n",
    "print(\"The Skewness using Scipy Library --\",i_skew)\n",
    "\n",
    "#Calculating Skewness usingn pandas library\n",
    "iskew=income.groupby(df['Age']).skew()\n",
    "print(\"The Skewness using pandas library --\\n\",iskew)"
   ]
  },
  {
   "attachments": {},
   "cell_type": "markdown",
   "metadata": {},
   "source": [
    "MAXIMUM AND MINIMUM"
   ]
  },
  {
   "cell_type": "code",
   "execution_count": null,
   "metadata": {},
   "outputs": [
    {
     "name": "stdout",
     "output_type": "stream",
     "text": [
      "The maximum income is -- 93000\n",
      "The minimum income is -- 15000\n"
     ]
    }
   ],
   "source": [
    "#calculating maximum and minimum \n",
    "max=df['Income'].max()\n",
    "print(\"The maximum income is --\",max)\n",
    "\n",
    "min=df['Income'].min()\n",
    "print(\"The minimum income is --\",min)\n"
   ]
  },
  {
   "attachments": {},
   "cell_type": "markdown",
   "metadata": {},
   "source": [
    "PERCENTILE"
   ]
  },
  {
   "cell_type": "code",
   "execution_count": null,
   "metadata": {},
   "outputs": [
    {
     "name": "stdout",
     "output_type": "stream",
     "text": [
      "The percentile is -- 65400.0\n"
     ]
    }
   ],
   "source": [
    "#Calculating percentile using numpy\n",
    "perc=np.percentile(income_np,75)\n",
    "print(\"The percentile is --\",perc)"
   ]
  },
  {
   "attachments": {},
   "cell_type": "markdown",
   "metadata": {},
   "source": [
    "USING DESCRIBE METHOD"
   ]
  },
  {
   "cell_type": "code",
   "execution_count": null,
   "metadata": {},
   "outputs": [
    {
     "data": {
      "text/html": [
       "<div>\n",
       "<style scoped>\n",
       "    .dataframe tbody tr th:only-of-type {\n",
       "        vertical-align: middle;\n",
       "    }\n",
       "\n",
       "    .dataframe tbody tr th {\n",
       "        vertical-align: top;\n",
       "    }\n",
       "\n",
       "    .dataframe thead th {\n",
       "        text-align: right;\n",
       "    }\n",
       "</style>\n",
       "<table border=\"1\" class=\"dataframe\">\n",
       "  <thead>\n",
       "    <tr style=\"text-align: right;\">\n",
       "      <th></th>\n",
       "      <th>Income</th>\n",
       "    </tr>\n",
       "  </thead>\n",
       "  <tbody>\n",
       "    <tr>\n",
       "      <th>count</th>\n",
       "      <td>50.000000</td>\n",
       "    </tr>\n",
       "    <tr>\n",
       "      <th>mean</th>\n",
       "      <td>50966.000000</td>\n",
       "    </tr>\n",
       "    <tr>\n",
       "      <th>std</th>\n",
       "      <td>21096.683268</td>\n",
       "    </tr>\n",
       "    <tr>\n",
       "      <th>min</th>\n",
       "      <td>15000.000000</td>\n",
       "    </tr>\n",
       "    <tr>\n",
       "      <th>25%</th>\n",
       "      <td>33475.000000</td>\n",
       "    </tr>\n",
       "    <tr>\n",
       "      <th>50%</th>\n",
       "      <td>46850.000000</td>\n",
       "    </tr>\n",
       "    <tr>\n",
       "      <th>75%</th>\n",
       "      <td>65400.000000</td>\n",
       "    </tr>\n",
       "    <tr>\n",
       "      <th>max</th>\n",
       "      <td>93000.000000</td>\n",
       "    </tr>\n",
       "  </tbody>\n",
       "</table>\n",
       "</div>"
      ],
      "text/plain": [
       "             Income\n",
       "count     50.000000\n",
       "mean   50966.000000\n",
       "std    21096.683268\n",
       "min    15000.000000\n",
       "25%    33475.000000\n",
       "50%    46850.000000\n",
       "75%    65400.000000\n",
       "max    93000.000000"
      ]
     },
     "execution_count": 12,
     "metadata": {},
     "output_type": "execute_result"
    }
   ],
   "source": [
    "df.describe()"
   ]
  },
  {
   "attachments": {},
   "cell_type": "markdown",
   "metadata": {},
   "source": [
    "CALCULATING SUMMARY STAISTICS OF INCOME GROUPED BY THE AGE GROUPS"
   ]
  },
  {
   "cell_type": "code",
   "execution_count": null,
   "metadata": {},
   "outputs": [
    {
     "data": {
      "text/html": [
       "<div>\n",
       "<style scoped>\n",
       "    .dataframe tbody tr th:only-of-type {\n",
       "        vertical-align: middle;\n",
       "    }\n",
       "\n",
       "    .dataframe tbody tr th {\n",
       "        vertical-align: top;\n",
       "    }\n",
       "\n",
       "    .dataframe thead tr th {\n",
       "        text-align: left;\n",
       "    }\n",
       "\n",
       "    .dataframe thead tr:last-of-type th {\n",
       "        text-align: right;\n",
       "    }\n",
       "</style>\n",
       "<table border=\"1\" class=\"dataframe\">\n",
       "  <thead>\n",
       "    <tr>\n",
       "      <th></th>\n",
       "      <th colspan=\"8\" halign=\"left\">Income</th>\n",
       "    </tr>\n",
       "    <tr>\n",
       "      <th></th>\n",
       "      <th>count</th>\n",
       "      <th>mean</th>\n",
       "      <th>std</th>\n",
       "      <th>min</th>\n",
       "      <th>25%</th>\n",
       "      <th>50%</th>\n",
       "      <th>75%</th>\n",
       "      <th>max</th>\n",
       "    </tr>\n",
       "    <tr>\n",
       "      <th>Age</th>\n",
       "      <th></th>\n",
       "      <th></th>\n",
       "      <th></th>\n",
       "      <th></th>\n",
       "      <th></th>\n",
       "      <th></th>\n",
       "      <th></th>\n",
       "      <th></th>\n",
       "    </tr>\n",
       "  </thead>\n",
       "  <tbody>\n",
       "    <tr>\n",
       "      <th>Middle Age</th>\n",
       "      <td>15.0</td>\n",
       "      <td>52453.333333</td>\n",
       "      <td>20497.800114</td>\n",
       "      <td>25600.0</td>\n",
       "      <td>36900.0</td>\n",
       "      <td>53200.0</td>\n",
       "      <td>61200.0</td>\n",
       "      <td>93000.0</td>\n",
       "    </tr>\n",
       "    <tr>\n",
       "      <th>Old</th>\n",
       "      <td>19.0</td>\n",
       "      <td>53942.105263</td>\n",
       "      <td>20868.165968</td>\n",
       "      <td>24500.0</td>\n",
       "      <td>38700.0</td>\n",
       "      <td>45300.0</td>\n",
       "      <td>71400.0</td>\n",
       "      <td>89700.0</td>\n",
       "    </tr>\n",
       "    <tr>\n",
       "      <th>Young</th>\n",
       "      <td>16.0</td>\n",
       "      <td>46037.500000</td>\n",
       "      <td>22356.859499</td>\n",
       "      <td>15000.0</td>\n",
       "      <td>28750.0</td>\n",
       "      <td>41500.0</td>\n",
       "      <td>65850.0</td>\n",
       "      <td>87000.0</td>\n",
       "    </tr>\n",
       "  </tbody>\n",
       "</table>\n",
       "</div>"
      ],
      "text/plain": [
       "           Income                                                         \\\n",
       "            count          mean           std      min      25%      50%   \n",
       "Age                                                                        \n",
       "Middle Age   15.0  52453.333333  20497.800114  25600.0  36900.0  53200.0   \n",
       "Old          19.0  53942.105263  20868.165968  24500.0  38700.0  45300.0   \n",
       "Young        16.0  46037.500000  22356.859499  15000.0  28750.0  41500.0   \n",
       "\n",
       "                              \n",
       "                75%      max  \n",
       "Age                           \n",
       "Middle Age  61200.0  93000.0  \n",
       "Old         71400.0  89700.0  \n",
       "Young       65850.0  87000.0  "
      ]
     },
     "execution_count": 21,
     "metadata": {},
     "output_type": "execute_result"
    }
   ],
   "source": [
    "df.groupby(df['Age']).describe()"
   ]
  },
  {
   "cell_type": "code",
   "execution_count": null,
   "metadata": {},
   "outputs": [],
   "source": []
  }
 ],
 "metadata": {
  "kernelspec": {
   "display_name": "Python 3",
   "language": "python",
   "name": "python3"
  },
  "language_info": {
   "codemirror_mode": {
    "name": "ipython",
    "version": 3
   },
   "file_extension": ".py",
   "mimetype": "text/x-python",
   "name": "python",
   "nbconvert_exporter": "python",
   "pygments_lexer": "ipython3",
   "version": "3.10.2"
  },
  "orig_nbformat": 4,
  "vscode": {
   "interpreter": {
    "hash": "a42ccb73e7d9bfdf27e036f1d2b8b681e55fc0743cc5586bc2474d4a60f4b886"
   }
  }
 },
 "nbformat": 4,
 "nbformat_minor": 2
}
